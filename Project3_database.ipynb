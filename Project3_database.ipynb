{
 "cells": [
  {
   "cell_type": "code",
   "execution_count": 21,
   "id": "53f62b3d",
   "metadata": {},
   "outputs": [],
   "source": [
    "### importing libraries\n",
    "import pandas as pd\n",
    "import sqlite3"
   ]
  },
  {
   "cell_type": "raw",
   "id": "4196c50f",
   "metadata": {},
   "source": [
    "flow\n",
    "1 establish connection ton sqlite database by creating using .connection(db)\n",
    "2 to create curser using curser() method"
   ]
  },
  {
   "cell_type": "code",
   "execution_count": 22,
   "id": "45ffa0ed",
   "metadata": {},
   "outputs": [],
   "source": [
    "## connection\n",
    "conn = sqlite3.connect('movies.sqlite')"
   ]
  },
  {
   "cell_type": "code",
   "execution_count": 23,
   "id": "ce4b7219",
   "metadata": {},
   "outputs": [],
   "source": [
    "cur = conn.cursor()"
   ]
  },
  {
   "cell_type": "code",
   "execution_count": 24,
   "id": "ebb07c1a",
   "metadata": {},
   "outputs": [
    {
     "data": {
      "text/plain": [
       "<sqlite3.Cursor at 0x1c6f2d218c0>"
      ]
     },
     "execution_count": 24,
     "metadata": {},
     "output_type": "execute_result"
    }
   ],
   "source": [
    "cur.execute('select name from sqlite_master where type=\"table\"')"
   ]
  },
  {
   "cell_type": "code",
   "execution_count": 25,
   "id": "22be67da",
   "metadata": {},
   "outputs": [
    {
     "data": {
      "text/plain": [
       "[('movies',), ('sqlite_sequence',), ('directors',)]"
      ]
     },
     "execution_count": 25,
     "metadata": {},
     "output_type": "execute_result"
    }
   ],
   "source": [
    "cur.fetchall()"
   ]
  },
  {
   "cell_type": "code",
   "execution_count": 26,
   "id": "a5ce4e8a",
   "metadata": {},
   "outputs": [],
   "source": [
    "x= cur.execute('select * from movies')"
   ]
  },
  {
   "cell_type": "code",
   "execution_count": 27,
   "id": "d7a3c1e5",
   "metadata": {},
   "outputs": [
    {
     "data": {
      "text/plain": [
       "(('id', None, None, None, None, None, None),\n",
       " ('original_title', None, None, None, None, None, None),\n",
       " ('budget', None, None, None, None, None, None),\n",
       " ('popularity', None, None, None, None, None, None),\n",
       " ('release_date', None, None, None, None, None, None),\n",
       " ('revenue', None, None, None, None, None, None),\n",
       " ('title', None, None, None, None, None, None),\n",
       " ('vote_average', None, None, None, None, None, None),\n",
       " ('vote_count', None, None, None, None, None, None),\n",
       " ('overview', None, None, None, None, None, None),\n",
       " ('tagline', None, None, None, None, None, None),\n",
       " ('uid', None, None, None, None, None, None),\n",
       " ('director_id', None, None, None, None, None, None))"
      ]
     },
     "execution_count": 27,
     "metadata": {},
     "output_type": "execute_result"
    }
   ],
   "source": [
    "x.description"
   ]
  },
  {
   "cell_type": "code",
   "execution_count": 28,
   "id": "9f456f1a",
   "metadata": {},
   "outputs": [],
   "source": [
    "names = [i[0] for i in x.description]"
   ]
  },
  {
   "cell_type": "code",
   "execution_count": 29,
   "id": "bc56f91e",
   "metadata": {},
   "outputs": [
    {
     "data": {
      "text/plain": [
       "['id',\n",
       " 'original_title',\n",
       " 'budget',\n",
       " 'popularity',\n",
       " 'release_date',\n",
       " 'revenue',\n",
       " 'title',\n",
       " 'vote_average',\n",
       " 'vote_count',\n",
       " 'overview',\n",
       " 'tagline',\n",
       " 'uid',\n",
       " 'director_id']"
      ]
     },
     "execution_count": 29,
     "metadata": {},
     "output_type": "execute_result"
    }
   ],
   "source": [
    "names"
   ]
  },
  {
   "cell_type": "code",
   "execution_count": 30,
   "id": "b120f071",
   "metadata": {},
   "outputs": [
    {
     "data": {
      "text/plain": [
       "<sqlite3.Cursor at 0x1c6f2d218c0>"
      ]
     },
     "execution_count": 30,
     "metadata": {},
     "output_type": "execute_result"
    }
   ],
   "source": [
    "cur.execute('select * from movies')"
   ]
  },
  {
   "cell_type": "code",
   "execution_count": 31,
   "id": "0bf837fa",
   "metadata": {},
   "outputs": [],
   "source": [
    "movies = cur.fetchall()"
   ]
  },
  {
   "cell_type": "code",
   "execution_count": 32,
   "id": "1b476acb",
   "metadata": {},
   "outputs": [],
   "source": [
    "movies = pd.DataFrame(movies, columns=names)"
   ]
  },
  {
   "cell_type": "code",
   "execution_count": 33,
   "id": "22e1c40b",
   "metadata": {},
   "outputs": [
    {
     "data": {
      "text/html": [
       "<div>\n",
       "<style scoped>\n",
       "    .dataframe tbody tr th:only-of-type {\n",
       "        vertical-align: middle;\n",
       "    }\n",
       "\n",
       "    .dataframe tbody tr th {\n",
       "        vertical-align: top;\n",
       "    }\n",
       "\n",
       "    .dataframe thead th {\n",
       "        text-align: right;\n",
       "    }\n",
       "</style>\n",
       "<table border=\"1\" class=\"dataframe\">\n",
       "  <thead>\n",
       "    <tr style=\"text-align: right;\">\n",
       "      <th></th>\n",
       "      <th>id</th>\n",
       "      <th>original_title</th>\n",
       "      <th>budget</th>\n",
       "      <th>popularity</th>\n",
       "      <th>release_date</th>\n",
       "      <th>revenue</th>\n",
       "      <th>title</th>\n",
       "      <th>vote_average</th>\n",
       "      <th>vote_count</th>\n",
       "      <th>overview</th>\n",
       "      <th>tagline</th>\n",
       "      <th>uid</th>\n",
       "      <th>director_id</th>\n",
       "    </tr>\n",
       "  </thead>\n",
       "  <tbody>\n",
       "    <tr>\n",
       "      <th>0</th>\n",
       "      <td>43597</td>\n",
       "      <td>Avatar</td>\n",
       "      <td>237000000</td>\n",
       "      <td>150</td>\n",
       "      <td>2009-12-10</td>\n",
       "      <td>2787965087</td>\n",
       "      <td>Avatar</td>\n",
       "      <td>7.2</td>\n",
       "      <td>11800</td>\n",
       "      <td>In the 22nd century, a paraplegic Marine is di...</td>\n",
       "      <td>Enter the World of Pandora.</td>\n",
       "      <td>19995</td>\n",
       "      <td>4762</td>\n",
       "    </tr>\n",
       "    <tr>\n",
       "      <th>1</th>\n",
       "      <td>43598</td>\n",
       "      <td>Pirates of the Caribbean: At World's End</td>\n",
       "      <td>300000000</td>\n",
       "      <td>139</td>\n",
       "      <td>2007-05-19</td>\n",
       "      <td>961000000</td>\n",
       "      <td>Pirates of the Caribbean: At World's End</td>\n",
       "      <td>6.9</td>\n",
       "      <td>4500</td>\n",
       "      <td>Captain Barbossa, long believed to be dead, ha...</td>\n",
       "      <td>At the end of the world, the adventure begins.</td>\n",
       "      <td>285</td>\n",
       "      <td>4763</td>\n",
       "    </tr>\n",
       "    <tr>\n",
       "      <th>2</th>\n",
       "      <td>43599</td>\n",
       "      <td>Spectre</td>\n",
       "      <td>245000000</td>\n",
       "      <td>107</td>\n",
       "      <td>2015-10-26</td>\n",
       "      <td>880674609</td>\n",
       "      <td>Spectre</td>\n",
       "      <td>6.3</td>\n",
       "      <td>4466</td>\n",
       "      <td>A cryptic message from Bond’s past sends him o...</td>\n",
       "      <td>A Plan No One Escapes</td>\n",
       "      <td>206647</td>\n",
       "      <td>4764</td>\n",
       "    </tr>\n",
       "    <tr>\n",
       "      <th>3</th>\n",
       "      <td>43600</td>\n",
       "      <td>The Dark Knight Rises</td>\n",
       "      <td>250000000</td>\n",
       "      <td>112</td>\n",
       "      <td>2012-07-16</td>\n",
       "      <td>1084939099</td>\n",
       "      <td>The Dark Knight Rises</td>\n",
       "      <td>7.6</td>\n",
       "      <td>9106</td>\n",
       "      <td>Following the death of District Attorney Harve...</td>\n",
       "      <td>The Legend Ends</td>\n",
       "      <td>49026</td>\n",
       "      <td>4765</td>\n",
       "    </tr>\n",
       "    <tr>\n",
       "      <th>4</th>\n",
       "      <td>43601</td>\n",
       "      <td>John Carter</td>\n",
       "      <td>260000000</td>\n",
       "      <td>43</td>\n",
       "      <td>2012-03-07</td>\n",
       "      <td>284139100</td>\n",
       "      <td>John Carter</td>\n",
       "      <td>6.1</td>\n",
       "      <td>2124</td>\n",
       "      <td>John Carter is a war-weary, former military ca...</td>\n",
       "      <td>Lost in our world, found in another.</td>\n",
       "      <td>49529</td>\n",
       "      <td>4766</td>\n",
       "    </tr>\n",
       "    <tr>\n",
       "      <th>...</th>\n",
       "      <td>...</td>\n",
       "      <td>...</td>\n",
       "      <td>...</td>\n",
       "      <td>...</td>\n",
       "      <td>...</td>\n",
       "      <td>...</td>\n",
       "      <td>...</td>\n",
       "      <td>...</td>\n",
       "      <td>...</td>\n",
       "      <td>...</td>\n",
       "      <td>...</td>\n",
       "      <td>...</td>\n",
       "      <td>...</td>\n",
       "    </tr>\n",
       "    <tr>\n",
       "      <th>4768</th>\n",
       "      <td>48395</td>\n",
       "      <td>El Mariachi</td>\n",
       "      <td>220000</td>\n",
       "      <td>14</td>\n",
       "      <td>1992-09-04</td>\n",
       "      <td>2040920</td>\n",
       "      <td>El Mariachi</td>\n",
       "      <td>6.6</td>\n",
       "      <td>238</td>\n",
       "      <td>El Mariachi just wants to play his guitar and ...</td>\n",
       "      <td>He didn't come looking for trouble, but troubl...</td>\n",
       "      <td>9367</td>\n",
       "      <td>5097</td>\n",
       "    </tr>\n",
       "    <tr>\n",
       "      <th>4769</th>\n",
       "      <td>48396</td>\n",
       "      <td>Newlyweds</td>\n",
       "      <td>9000</td>\n",
       "      <td>0</td>\n",
       "      <td>2011-12-26</td>\n",
       "      <td>0</td>\n",
       "      <td>Newlyweds</td>\n",
       "      <td>5.9</td>\n",
       "      <td>5</td>\n",
       "      <td>A newlywed couple's honeymoon is upended by th...</td>\n",
       "      <td>A newlywed couple's honeymoon is upended by th...</td>\n",
       "      <td>72766</td>\n",
       "      <td>6485</td>\n",
       "    </tr>\n",
       "    <tr>\n",
       "      <th>4770</th>\n",
       "      <td>48397</td>\n",
       "      <td>Signed, Sealed, Delivered</td>\n",
       "      <td>0</td>\n",
       "      <td>1</td>\n",
       "      <td>2013-10-13</td>\n",
       "      <td>0</td>\n",
       "      <td>Signed, Sealed, Delivered</td>\n",
       "      <td>7.0</td>\n",
       "      <td>6</td>\n",
       "      <td>\"Signed, Sealed, Delivered\" introduces a dedic...</td>\n",
       "      <td>None</td>\n",
       "      <td>231617</td>\n",
       "      <td>7108</td>\n",
       "    </tr>\n",
       "    <tr>\n",
       "      <th>4771</th>\n",
       "      <td>48398</td>\n",
       "      <td>Shanghai Calling</td>\n",
       "      <td>0</td>\n",
       "      <td>0</td>\n",
       "      <td>2012-05-03</td>\n",
       "      <td>0</td>\n",
       "      <td>Shanghai Calling</td>\n",
       "      <td>5.7</td>\n",
       "      <td>7</td>\n",
       "      <td>When ambitious New York attorney Sam is sent t...</td>\n",
       "      <td>A New Yorker in Shanghai</td>\n",
       "      <td>126186</td>\n",
       "      <td>7109</td>\n",
       "    </tr>\n",
       "    <tr>\n",
       "      <th>4772</th>\n",
       "      <td>48399</td>\n",
       "      <td>My Date with Drew</td>\n",
       "      <td>0</td>\n",
       "      <td>1</td>\n",
       "      <td>2005-08-05</td>\n",
       "      <td>0</td>\n",
       "      <td>My Date with Drew</td>\n",
       "      <td>6.3</td>\n",
       "      <td>16</td>\n",
       "      <td>Ever since the second grade when he first saw ...</td>\n",
       "      <td>None</td>\n",
       "      <td>25975</td>\n",
       "      <td>7110</td>\n",
       "    </tr>\n",
       "  </tbody>\n",
       "</table>\n",
       "<p>4773 rows × 13 columns</p>\n",
       "</div>"
      ],
      "text/plain": [
       "         id                            original_title     budget  popularity  \\\n",
       "0     43597                                    Avatar  237000000         150   \n",
       "1     43598  Pirates of the Caribbean: At World's End  300000000         139   \n",
       "2     43599                                   Spectre  245000000         107   \n",
       "3     43600                     The Dark Knight Rises  250000000         112   \n",
       "4     43601                               John Carter  260000000          43   \n",
       "...     ...                                       ...        ...         ...   \n",
       "4768  48395                               El Mariachi     220000          14   \n",
       "4769  48396                                 Newlyweds       9000           0   \n",
       "4770  48397                 Signed, Sealed, Delivered          0           1   \n",
       "4771  48398                          Shanghai Calling          0           0   \n",
       "4772  48399                         My Date with Drew          0           1   \n",
       "\n",
       "     release_date     revenue                                     title  \\\n",
       "0      2009-12-10  2787965087                                    Avatar   \n",
       "1      2007-05-19   961000000  Pirates of the Caribbean: At World's End   \n",
       "2      2015-10-26   880674609                                   Spectre   \n",
       "3      2012-07-16  1084939099                     The Dark Knight Rises   \n",
       "4      2012-03-07   284139100                               John Carter   \n",
       "...           ...         ...                                       ...   \n",
       "4768   1992-09-04     2040920                               El Mariachi   \n",
       "4769   2011-12-26           0                                 Newlyweds   \n",
       "4770   2013-10-13           0                 Signed, Sealed, Delivered   \n",
       "4771   2012-05-03           0                          Shanghai Calling   \n",
       "4772   2005-08-05           0                         My Date with Drew   \n",
       "\n",
       "      vote_average  vote_count  \\\n",
       "0              7.2       11800   \n",
       "1              6.9        4500   \n",
       "2              6.3        4466   \n",
       "3              7.6        9106   \n",
       "4              6.1        2124   \n",
       "...            ...         ...   \n",
       "4768           6.6         238   \n",
       "4769           5.9           5   \n",
       "4770           7.0           6   \n",
       "4771           5.7           7   \n",
       "4772           6.3          16   \n",
       "\n",
       "                                               overview  \\\n",
       "0     In the 22nd century, a paraplegic Marine is di...   \n",
       "1     Captain Barbossa, long believed to be dead, ha...   \n",
       "2     A cryptic message from Bond’s past sends him o...   \n",
       "3     Following the death of District Attorney Harve...   \n",
       "4     John Carter is a war-weary, former military ca...   \n",
       "...                                                 ...   \n",
       "4768  El Mariachi just wants to play his guitar and ...   \n",
       "4769  A newlywed couple's honeymoon is upended by th...   \n",
       "4770  \"Signed, Sealed, Delivered\" introduces a dedic...   \n",
       "4771  When ambitious New York attorney Sam is sent t...   \n",
       "4772  Ever since the second grade when he first saw ...   \n",
       "\n",
       "                                                tagline     uid  director_id  \n",
       "0                           Enter the World of Pandora.   19995         4762  \n",
       "1        At the end of the world, the adventure begins.     285         4763  \n",
       "2                                 A Plan No One Escapes  206647         4764  \n",
       "3                                       The Legend Ends   49026         4765  \n",
       "4                  Lost in our world, found in another.   49529         4766  \n",
       "...                                                 ...     ...          ...  \n",
       "4768  He didn't come looking for trouble, but troubl...    9367         5097  \n",
       "4769  A newlywed couple's honeymoon is upended by th...   72766         6485  \n",
       "4770                                               None  231617         7108  \n",
       "4771                           A New Yorker in Shanghai  126186         7109  \n",
       "4772                                               None   25975         7110  \n",
       "\n",
       "[4773 rows x 13 columns]"
      ]
     },
     "execution_count": 33,
     "metadata": {},
     "output_type": "execute_result"
    }
   ],
   "source": [
    "movies"
   ]
  },
  {
   "cell_type": "code",
   "execution_count": 34,
   "id": "ad5663ce",
   "metadata": {},
   "outputs": [
    {
     "data": {
      "text/html": [
       "<div>\n",
       "<style scoped>\n",
       "    .dataframe tbody tr th:only-of-type {\n",
       "        vertical-align: middle;\n",
       "    }\n",
       "\n",
       "    .dataframe tbody tr th {\n",
       "        vertical-align: top;\n",
       "    }\n",
       "\n",
       "    .dataframe thead th {\n",
       "        text-align: right;\n",
       "    }\n",
       "</style>\n",
       "<table border=\"1\" class=\"dataframe\">\n",
       "  <thead>\n",
       "    <tr style=\"text-align: right;\">\n",
       "      <th></th>\n",
       "      <th>id</th>\n",
       "      <th>budget</th>\n",
       "      <th>popularity</th>\n",
       "      <th>revenue</th>\n",
       "      <th>vote_average</th>\n",
       "      <th>vote_count</th>\n",
       "      <th>uid</th>\n",
       "      <th>director_id</th>\n",
       "    </tr>\n",
       "  </thead>\n",
       "  <tbody>\n",
       "    <tr>\n",
       "      <th>count</th>\n",
       "      <td>4773.000000</td>\n",
       "      <td>4.773000e+03</td>\n",
       "      <td>4773.000000</td>\n",
       "      <td>4.773000e+03</td>\n",
       "      <td>4773.000000</td>\n",
       "      <td>4773.000000</td>\n",
       "      <td>4773.000000</td>\n",
       "      <td>4773.000000</td>\n",
       "    </tr>\n",
       "    <tr>\n",
       "      <th>mean</th>\n",
       "      <td>45985.680913</td>\n",
       "      <td>2.922461e+07</td>\n",
       "      <td>21.136602</td>\n",
       "      <td>8.277710e+07</td>\n",
       "      <td>6.109177</td>\n",
       "      <td>694.541588</td>\n",
       "      <td>56244.396396</td>\n",
       "      <td>5586.661429</td>\n",
       "    </tr>\n",
       "    <tr>\n",
       "      <th>std</th>\n",
       "      <td>1382.032760</td>\n",
       "      <td>4.078679e+07</td>\n",
       "      <td>31.864132</td>\n",
       "      <td>1.632374e+08</td>\n",
       "      <td>1.146789</td>\n",
       "      <td>1237.251355</td>\n",
       "      <td>87452.149183</td>\n",
       "      <td>670.413263</td>\n",
       "    </tr>\n",
       "    <tr>\n",
       "      <th>min</th>\n",
       "      <td>43597.000000</td>\n",
       "      <td>0.000000e+00</td>\n",
       "      <td>0.000000</td>\n",
       "      <td>0.000000e+00</td>\n",
       "      <td>0.000000</td>\n",
       "      <td>0.000000</td>\n",
       "      <td>5.000000</td>\n",
       "      <td>4762.000000</td>\n",
       "    </tr>\n",
       "    <tr>\n",
       "      <th>25%</th>\n",
       "      <td>44790.000000</td>\n",
       "      <td>9.500000e+05</td>\n",
       "      <td>4.000000</td>\n",
       "      <td>0.000000e+00</td>\n",
       "      <td>5.600000</td>\n",
       "      <td>55.000000</td>\n",
       "      <td>8998.000000</td>\n",
       "      <td>5011.000000</td>\n",
       "    </tr>\n",
       "    <tr>\n",
       "      <th>50%</th>\n",
       "      <td>45983.000000</td>\n",
       "      <td>1.500000e+07</td>\n",
       "      <td>13.000000</td>\n",
       "      <td>1.947811e+07</td>\n",
       "      <td>6.200000</td>\n",
       "      <td>238.000000</td>\n",
       "      <td>14517.000000</td>\n",
       "      <td>5389.000000</td>\n",
       "    </tr>\n",
       "    <tr>\n",
       "      <th>75%</th>\n",
       "      <td>47176.000000</td>\n",
       "      <td>4.000000e+07</td>\n",
       "      <td>28.000000</td>\n",
       "      <td>9.361701e+07</td>\n",
       "      <td>6.800000</td>\n",
       "      <td>742.000000</td>\n",
       "      <td>57876.000000</td>\n",
       "      <td>6086.000000</td>\n",
       "    </tr>\n",
       "    <tr>\n",
       "      <th>max</th>\n",
       "      <td>48399.000000</td>\n",
       "      <td>3.800000e+08</td>\n",
       "      <td>875.000000</td>\n",
       "      <td>2.787965e+09</td>\n",
       "      <td>10.000000</td>\n",
       "      <td>13752.000000</td>\n",
       "      <td>459488.000000</td>\n",
       "      <td>7110.000000</td>\n",
       "    </tr>\n",
       "  </tbody>\n",
       "</table>\n",
       "</div>"
      ],
      "text/plain": [
       "                 id        budget   popularity       revenue  vote_average  \\\n",
       "count   4773.000000  4.773000e+03  4773.000000  4.773000e+03   4773.000000   \n",
       "mean   45985.680913  2.922461e+07    21.136602  8.277710e+07      6.109177   \n",
       "std     1382.032760  4.078679e+07    31.864132  1.632374e+08      1.146789   \n",
       "min    43597.000000  0.000000e+00     0.000000  0.000000e+00      0.000000   \n",
       "25%    44790.000000  9.500000e+05     4.000000  0.000000e+00      5.600000   \n",
       "50%    45983.000000  1.500000e+07    13.000000  1.947811e+07      6.200000   \n",
       "75%    47176.000000  4.000000e+07    28.000000  9.361701e+07      6.800000   \n",
       "max    48399.000000  3.800000e+08   875.000000  2.787965e+09     10.000000   \n",
       "\n",
       "         vote_count            uid  director_id  \n",
       "count   4773.000000    4773.000000  4773.000000  \n",
       "mean     694.541588   56244.396396  5586.661429  \n",
       "std     1237.251355   87452.149183   670.413263  \n",
       "min        0.000000       5.000000  4762.000000  \n",
       "25%       55.000000    8998.000000  5011.000000  \n",
       "50%      238.000000   14517.000000  5389.000000  \n",
       "75%      742.000000   57876.000000  6086.000000  \n",
       "max    13752.000000  459488.000000  7110.000000  "
      ]
     },
     "execution_count": 34,
     "metadata": {},
     "output_type": "execute_result"
    }
   ],
   "source": [
    "movies.describe()"
   ]
  },
  {
   "cell_type": "code",
   "execution_count": 35,
   "id": "72c988cd",
   "metadata": {},
   "outputs": [
    {
     "name": "stdout",
     "output_type": "stream",
     "text": [
      "<class 'pandas.core.frame.DataFrame'>\n",
      "RangeIndex: 4773 entries, 0 to 4772\n",
      "Data columns (total 13 columns):\n",
      " #   Column          Non-Null Count  Dtype  \n",
      "---  ------          --------------  -----  \n",
      " 0   id              4773 non-null   int64  \n",
      " 1   original_title  4773 non-null   object \n",
      " 2   budget          4773 non-null   int64  \n",
      " 3   popularity      4773 non-null   int64  \n",
      " 4   release_date    4773 non-null   object \n",
      " 5   revenue         4773 non-null   int64  \n",
      " 6   title           4773 non-null   object \n",
      " 7   vote_average    4773 non-null   float64\n",
      " 8   vote_count      4773 non-null   int64  \n",
      " 9   overview        4770 non-null   object \n",
      " 10  tagline         3951 non-null   object \n",
      " 11  uid             4773 non-null   int64  \n",
      " 12  director_id     4773 non-null   int64  \n",
      "dtypes: float64(1), int64(7), object(5)\n",
      "memory usage: 484.9+ KB\n"
     ]
    }
   ],
   "source": [
    "movies.info()"
   ]
  },
  {
   "cell_type": "code",
   "execution_count": 38,
   "id": "6b4bbcb8",
   "metadata": {},
   "outputs": [],
   "source": [
    "x= cur.execute('select  * from directors')"
   ]
  },
  {
   "cell_type": "code",
   "execution_count": 39,
   "id": "185e7e2f",
   "metadata": {},
   "outputs": [],
   "source": [
    "names = [i[0] for i in x.description]"
   ]
  },
  {
   "cell_type": "code",
   "execution_count": 40,
   "id": "65f67a7c",
   "metadata": {},
   "outputs": [
    {
     "data": {
      "text/plain": [
       "['name', 'id', 'gender', 'uid', 'department']"
      ]
     },
     "execution_count": 40,
     "metadata": {},
     "output_type": "execute_result"
    }
   ],
   "source": [
    "names"
   ]
  },
  {
   "cell_type": "code",
   "execution_count": 41,
   "id": "7311c9cc",
   "metadata": {},
   "outputs": [
    {
     "data": {
      "text/plain": [
       "<sqlite3.Cursor at 0x1c6f2d218c0>"
      ]
     },
     "execution_count": 41,
     "metadata": {},
     "output_type": "execute_result"
    }
   ],
   "source": [
    "cur.execute('select  * from directors')"
   ]
  },
  {
   "cell_type": "code",
   "execution_count": 42,
   "id": "b6dfc8af",
   "metadata": {},
   "outputs": [],
   "source": [
    "directors = cur.fetchall()"
   ]
  },
  {
   "cell_type": "code",
   "execution_count": 44,
   "id": "29eef493",
   "metadata": {},
   "outputs": [],
   "source": [
    "directors = pd.DataFrame(directors , columns = names)"
   ]
  },
  {
   "cell_type": "code",
   "execution_count": 45,
   "id": "09dbbc8e",
   "metadata": {},
   "outputs": [
    {
     "data": {
      "text/html": [
       "<div>\n",
       "<style scoped>\n",
       "    .dataframe tbody tr th:only-of-type {\n",
       "        vertical-align: middle;\n",
       "    }\n",
       "\n",
       "    .dataframe tbody tr th {\n",
       "        vertical-align: top;\n",
       "    }\n",
       "\n",
       "    .dataframe thead th {\n",
       "        text-align: right;\n",
       "    }\n",
       "</style>\n",
       "<table border=\"1\" class=\"dataframe\">\n",
       "  <thead>\n",
       "    <tr style=\"text-align: right;\">\n",
       "      <th></th>\n",
       "      <th>name</th>\n",
       "      <th>id</th>\n",
       "      <th>gender</th>\n",
       "      <th>uid</th>\n",
       "      <th>department</th>\n",
       "    </tr>\n",
       "  </thead>\n",
       "  <tbody>\n",
       "    <tr>\n",
       "      <th>0</th>\n",
       "      <td>James Cameron</td>\n",
       "      <td>4762</td>\n",
       "      <td>2</td>\n",
       "      <td>2710</td>\n",
       "      <td>Directing</td>\n",
       "    </tr>\n",
       "    <tr>\n",
       "      <th>1</th>\n",
       "      <td>Gore Verbinski</td>\n",
       "      <td>4763</td>\n",
       "      <td>2</td>\n",
       "      <td>1704</td>\n",
       "      <td>Directing</td>\n",
       "    </tr>\n",
       "    <tr>\n",
       "      <th>2</th>\n",
       "      <td>Sam Mendes</td>\n",
       "      <td>4764</td>\n",
       "      <td>2</td>\n",
       "      <td>39</td>\n",
       "      <td>Directing</td>\n",
       "    </tr>\n",
       "    <tr>\n",
       "      <th>3</th>\n",
       "      <td>Christopher Nolan</td>\n",
       "      <td>4765</td>\n",
       "      <td>2</td>\n",
       "      <td>525</td>\n",
       "      <td>Directing</td>\n",
       "    </tr>\n",
       "    <tr>\n",
       "      <th>4</th>\n",
       "      <td>Andrew Stanton</td>\n",
       "      <td>4766</td>\n",
       "      <td>2</td>\n",
       "      <td>7</td>\n",
       "      <td>Directing</td>\n",
       "    </tr>\n",
       "    <tr>\n",
       "      <th>...</th>\n",
       "      <td>...</td>\n",
       "      <td>...</td>\n",
       "      <td>...</td>\n",
       "      <td>...</td>\n",
       "      <td>...</td>\n",
       "    </tr>\n",
       "    <tr>\n",
       "      <th>2344</th>\n",
       "      <td>Shane Carruth</td>\n",
       "      <td>7106</td>\n",
       "      <td>2</td>\n",
       "      <td>76624</td>\n",
       "      <td>Directing</td>\n",
       "    </tr>\n",
       "    <tr>\n",
       "      <th>2345</th>\n",
       "      <td>Neill Dela Llana</td>\n",
       "      <td>7107</td>\n",
       "      <td>0</td>\n",
       "      <td>1174437</td>\n",
       "      <td>Directing</td>\n",
       "    </tr>\n",
       "    <tr>\n",
       "      <th>2346</th>\n",
       "      <td>Scott Smith</td>\n",
       "      <td>7108</td>\n",
       "      <td>0</td>\n",
       "      <td>1219158</td>\n",
       "      <td>Directing</td>\n",
       "    </tr>\n",
       "    <tr>\n",
       "      <th>2347</th>\n",
       "      <td>Daniel Hsia</td>\n",
       "      <td>7109</td>\n",
       "      <td>2</td>\n",
       "      <td>208138</td>\n",
       "      <td>Directing</td>\n",
       "    </tr>\n",
       "    <tr>\n",
       "      <th>2348</th>\n",
       "      <td>Brian Herzlinger</td>\n",
       "      <td>7110</td>\n",
       "      <td>2</td>\n",
       "      <td>85563</td>\n",
       "      <td>Directing</td>\n",
       "    </tr>\n",
       "  </tbody>\n",
       "</table>\n",
       "<p>2349 rows × 5 columns</p>\n",
       "</div>"
      ],
      "text/plain": [
       "                   name    id  gender      uid department\n",
       "0         James Cameron  4762       2     2710  Directing\n",
       "1        Gore Verbinski  4763       2     1704  Directing\n",
       "2            Sam Mendes  4764       2       39  Directing\n",
       "3     Christopher Nolan  4765       2      525  Directing\n",
       "4        Andrew Stanton  4766       2        7  Directing\n",
       "...                 ...   ...     ...      ...        ...\n",
       "2344      Shane Carruth  7106       2    76624  Directing\n",
       "2345   Neill Dela Llana  7107       0  1174437  Directing\n",
       "2346        Scott Smith  7108       0  1219158  Directing\n",
       "2347        Daniel Hsia  7109       2   208138  Directing\n",
       "2348   Brian Herzlinger  7110       2    85563  Directing\n",
       "\n",
       "[2349 rows x 5 columns]"
      ]
     },
     "execution_count": 45,
     "metadata": {},
     "output_type": "execute_result"
    }
   ],
   "source": [
    "directors"
   ]
  },
  {
   "cell_type": "code",
   "execution_count": 47,
   "id": "4e53ba6f",
   "metadata": {},
   "outputs": [
    {
     "data": {
      "text/plain": [
       "[(4773,)]"
      ]
     },
     "execution_count": 47,
     "metadata": {},
     "output_type": "execute_result"
    }
   ],
   "source": [
    "#### question\n",
    "cur.execute('select count(id) from movies')\n",
    "cur.fetchall()"
   ]
  },
  {
   "cell_type": "code",
   "execution_count": 53,
   "id": "5e05b2a6",
   "metadata": {},
   "outputs": [
    {
     "data": {
      "text/plain": [
       "[('James Cameron', 4762, 2, 2710, 'Directing'),\n",
       " ('John Woo', 4893, 2, 11401, 'Directing'),\n",
       " ('Luc Besson', 4949, 2, 59, 'Directing')]"
      ]
     },
     "execution_count": 53,
     "metadata": {},
     "output_type": "execute_result"
    }
   ],
   "source": [
    "### find the data of these three directors : James Cameron , Luc Besson , John Woo\n",
    "cur.execute('select * from directors where name in (\"James Cameron\", \"Luc Besson\" , \"John Woo\")')\n",
    "cur.fetchall()"
   ]
  },
  {
   "cell_type": "code",
   "execution_count": 60,
   "id": "289c7eb6",
   "metadata": {},
   "outputs": [
    {
     "data": {
      "text/plain": [
       "[('Steven Spielberg',),\n",
       " ('Steven Soderbergh',),\n",
       " ('Steven Brill',),\n",
       " ('Steven Zaillian',),\n",
       " ('Steven Quale',),\n",
       " ('Steven Seagal',),\n",
       " ('Steven E. de Souza',),\n",
       " ('Steven Shainberg',),\n",
       " ('Steven R. Monroe',)]"
      ]
     },
     "execution_count": 60,
     "metadata": {},
     "output_type": "execute_result"
    }
   ],
   "source": [
    "### find all the directors with name starting with steven\n",
    "cur.execute('select name from directors where name like \"Steven%\"')\n",
    "cur.fetchall()"
   ]
  },
  {
   "cell_type": "code",
   "execution_count": 62,
   "id": "660900a1",
   "metadata": {},
   "outputs": [
    {
     "data": {
      "text/plain": [
       "[(150,)]"
      ]
     },
     "execution_count": 62,
     "metadata": {},
     "output_type": "execute_result"
    }
   ],
   "source": [
    "## gender = 1 = female\n",
    "## count of all the female directors\n",
    "cur.execute('select count(gender) from directors where gender=1')\n",
    "cur.fetchall()"
   ]
  },
  {
   "cell_type": "code",
   "execution_count": 71,
   "id": "289112a6",
   "metadata": {},
   "outputs": [],
   "source": [
    "## name of 10th person in the list - limit\n",
    "cur.execute('select name from directors where gender = 1 limit 10')\n",
    "y = cur.fetchall()"
   ]
  },
  {
   "cell_type": "code",
   "execution_count": 73,
   "id": "c71fe8d1",
   "metadata": {},
   "outputs": [
    {
     "data": {
      "text/plain": [
       "('Angelina Jolie',)"
      ]
     },
     "execution_count": 73,
     "metadata": {},
     "output_type": "execute_result"
    }
   ],
   "source": [
    "y[-1]"
   ]
  },
  {
   "cell_type": "code",
   "execution_count": 74,
   "id": "3a5a09e0",
   "metadata": {},
   "outputs": [
    {
     "data": {
      "text/plain": [
       "[('Angelina Jolie',)]"
      ]
     },
     "execution_count": 74,
     "metadata": {},
     "output_type": "execute_result"
    }
   ],
   "source": [
    "cur.execute('select name from directors where gender =1 limit 1 offset 9')\n",
    "cur.fetchall()"
   ]
  },
  {
   "cell_type": "code",
   "execution_count": 76,
   "id": "e1d5409b",
   "metadata": {},
   "outputs": [
    {
     "data": {
      "text/plain": [
       "Index(['id', 'original_title', 'budget', 'popularity', 'release_date',\n",
       "       'revenue', 'title', 'vote_average', 'vote_count', 'overview', 'tagline',\n",
       "       'uid', 'director_id'],\n",
       "      dtype='object')"
      ]
     },
     "execution_count": 76,
     "metadata": {},
     "output_type": "execute_result"
    }
   ],
   "source": [
    "movies.columns"
   ]
  },
  {
   "cell_type": "code",
   "execution_count": 77,
   "id": "fcca9253",
   "metadata": {},
   "outputs": [
    {
     "data": {
      "text/plain": [
       "[('Minions', 875), ('Interstellar', 724), ('Deadpool', 514)]"
      ]
     },
     "execution_count": 77,
     "metadata": {},
     "output_type": "execute_result"
    }
   ],
   "source": [
    "### what are the three most popular movies\n",
    "cur.execute('select title , popularity from movies order by popularity desc limit 3')\n",
    "cur.fetchall()"
   ]
  },
  {
   "cell_type": "code",
   "execution_count": 82,
   "id": "eb78992d",
   "metadata": {},
   "outputs": [
    {
     "data": {
      "text/plain": [
       "[('Sardaarji', '2015-06-26'),\n",
       " ('Spirited Away', '2001-07-20'),\n",
       " ('Whiplash', '2014-10-10')]"
      ]
     },
     "execution_count": 82,
     "metadata": {},
     "output_type": "execute_result"
    }
   ],
   "source": [
    "### what is the most awarded avg rated movie since jan 1st 2000\n",
    "cur.execute('select title , release_date from movies where release_date > \"2000-01-01\" order by vote_average desc limit 3')\n",
    "cur.fetchall()"
   ]
  },
  {
   "cell_type": "code",
   "execution_count": 83,
   "id": "6e8712ee",
   "metadata": {},
   "outputs": [
    {
     "data": {
      "text/plain": [
       "[('2012',),\n",
       " ('47 Ronin',),\n",
       " ('4: Rise of the Silver Surfer',),\n",
       " ('300: Rise of an Empire',),\n",
       " ('102 Dalmatians',),\n",
       " ('2 Fast 2 Furious',),\n",
       " ('50 First Dates',),\n",
       " ('3000 Miles to Graceland',),\n",
       " ('300',),\n",
       " ('2 Guns',),\n",
       " ('22 Jump Street',),\n",
       " ('13 Hours: The Secret Soldiers of Benghazi',),\n",
       " ('3:10 to Yuma',),\n",
       " ('1947: Earth',),\n",
       " ('16 Blocks',),\n",
       " ('28 Days',),\n",
       " ('21 Jump Street',),\n",
       " ('15 Minutes',),\n",
       " ('8 Mile',),\n",
       " ('42',),\n",
       " ('17 Again',),\n",
       " ('8MM',),\n",
       " ('21',),\n",
       " ('1941',),\n",
       " ('27 Dresses',),\n",
       " ('13 Going on 30',),\n",
       " ('30 Days of Night',),\n",
       " ('9',),\n",
       " ('88 Minutes',),\n",
       " ('30 Minutes or Less',),\n",
       " ('3 Days to Kill',),\n",
       " ('1408',),\n",
       " ('12 Years a Slave',),\n",
       " ('21 Grams',),\n",
       " ('12 Rounds',),\n",
       " ('3 Ninjas Kick Back',),\n",
       " ('127 Hours',),\n",
       " ('40 Days and 40 Nights',),\n",
       " ('55 Days at Peking',),\n",
       " ('28 Weeks Later',),\n",
       " ('10 Things I Hate About You',),\n",
       " ('54',),\n",
       " ('21 & Over',),\n",
       " ('2046',),\n",
       " ('5 Days of War',),\n",
       " ('10 Days in a Madhouse',),\n",
       " ('2001: A Space Odyssey',),\n",
       " ('28 Days Later',),\n",
       " ('50/50',),\n",
       " ('8 femmes',),\n",
       " ('10th & Wolf',),\n",
       " ('200 Cigarettes',),\n",
       " ('11:14',),\n",
       " ('10 Cloverfield Lane',),\n",
       " ('20,000 Leagues Under the Sea',),\n",
       " ('90 Minutes in Heaven',),\n",
       " ('25th Hour',),\n",
       " ('3 Strikes',),\n",
       " ('1776',),\n",
       " ('2:13',),\n",
       " ('8 Heads in a Duffel Bag',),\n",
       " ('30 Nights of Paranormal Activity With the Devil Inside the Girl With the Dragon Tattoo',),\n",
       " (\"2016: Obama's America\",),\n",
       " ('8: The Mormon Proposition',),\n",
       " ('8 Days',),\n",
       " ('24 7: Twenty Four Seven',),\n",
       " ('20 Feet from Stardom',),\n",
       " ('16 to Life',),\n",
       " ('4 luni, 3 săptămîni și 2 zile',),\n",
       " ('1982',),\n",
       " ('42nd Street',),\n",
       " ('51 Birch Street',),\n",
       " ('12 Angry Men',),\n",
       " ('3 Backyards',),\n",
       " ('20 Dates',)]"
      ]
     },
     "execution_count": 83,
     "metadata": {},
     "output_type": "execute_result"
    }
   ],
   "source": [
    "### which is movies were directed by Brenda Chapmen\n",
    "cur.execute('select original_title from movies inner join directors on original_title where name = \"Brenda Chapman\"')\n",
    "cur.fetchall()"
   ]
  },
  {
   "cell_type": "code",
   "execution_count": 85,
   "id": "dbc6ff09",
   "metadata": {},
   "outputs": [
    {
     "data": {
      "text/plain": [
       "[('Brave',)]"
      ]
     },
     "execution_count": 85,
     "metadata": {},
     "output_type": "execute_result"
    }
   ],
   "source": [
    "### which is movies were directed by Brenda Chapmen\n",
    "cur.execute('select original_title from movies inner join directors on movies.director_id = directors.id where directors.name = \"Brenda Chapman\"')\n",
    "cur.fetchall()"
   ]
  },
  {
   "cell_type": "code",
   "execution_count": 120,
   "id": "3e43287f",
   "metadata": {},
   "outputs": [
    {
     "data": {
      "text/plain": [
       "[('Steven Spielberg', 27), ('Woody Allen', 21), ('Martin Scorsese', 20)]"
      ]
     },
     "execution_count": 120,
     "metadata": {},
     "output_type": "execute_result"
    }
   ],
   "source": [
    "### name the director who has made most number of movies\n",
    "cur.execute('SELECT directors.name, count(*) as movie_count FROM movies JOIN directors ON movies.director_id = directors.id GROUP BY directors.name ORDER BY movie_count DESC LIMIT 3')\n",
    "cur.fetchall()"
   ]
  },
  {
   "cell_type": "code",
   "execution_count": 113,
   "id": "ef98aa70",
   "metadata": {},
   "outputs": [
    {
     "data": {
      "text/plain": [
       "[('James Cameron', 327659840745480)]"
      ]
     },
     "execution_count": 113,
     "metadata": {},
     "output_type": "execute_result"
    }
   ],
   "source": [
    "### name the director who is most bankable\n",
    "cur.execute('select name, sum(budget) from movies inner join directors order by budget desc limit 3')\n",
    "cur.fetchall()"
   ]
  },
  {
   "cell_type": "code",
   "execution_count": 100,
   "id": "a670c933",
   "metadata": {},
   "outputs": [
    {
     "data": {
      "text/plain": [
       "[('Pirates of the Caribbean: On Stranger Tides', 380000000),\n",
       " (\"Pirates of the Caribbean: At World's End\", 300000000),\n",
       " ('Avengers: Age of Ultron', 280000000),\n",
       " ('Superman Returns', 270000000),\n",
       " ('John Carter', 260000000),\n",
       " ('Tangled', 260000000),\n",
       " ('Spider-Man 3', 258000000),\n",
       " ('The Lone Ranger', 255000000),\n",
       " ('The Dark Knight Rises', 250000000),\n",
       " ('Harry Potter and the Half-Blood Prince', 250000000)]"
      ]
     },
     "execution_count": 100,
     "metadata": {},
     "output_type": "execute_result"
    }
   ],
   "source": [
    "### all the possible details of top 10 movies with highest budget \n",
    "cur.execute('select title, budget from movies order by budget desc limit 10')\n",
    "cur.fetchall()"
   ]
  },
  {
   "cell_type": "code",
   "execution_count": 96,
   "id": "43ea0c98",
   "metadata": {},
   "outputs": [
    {
     "data": {
      "text/plain": [
       "[('Avatar', 2787965087), ('Titanic', 1845034188), ('The Avengers', 1519557910)]"
      ]
     },
     "execution_count": 96,
     "metadata": {},
     "output_type": "execute_result"
    }
   ],
   "source": [
    "### details of top 10 revenue making movies\n",
    "cur.execute('select title, revenue from movies order by revenue desc limit 3')\n",
    "cur.fetchall()"
   ]
  },
  {
   "cell_type": "code",
   "execution_count": null,
   "id": "59b70671",
   "metadata": {},
   "outputs": [],
   "source": []
  }
 ],
 "metadata": {
  "kernelspec": {
   "display_name": "Python 3 (ipykernel)",
   "language": "python",
   "name": "python3"
  },
  "language_info": {
   "codemirror_mode": {
    "name": "ipython",
    "version": 3
   },
   "file_extension": ".py",
   "mimetype": "text/x-python",
   "name": "python",
   "nbconvert_exporter": "python",
   "pygments_lexer": "ipython3",
   "version": "3.10.9"
  }
 },
 "nbformat": 4,
 "nbformat_minor": 5
}
